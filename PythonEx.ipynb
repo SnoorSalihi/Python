{
 "cells": [
  {
   "cell_type": "code",
   "execution_count": 1,
   "id": "8438ea70",
   "metadata": {},
   "outputs": [
    {
     "name": "stdout",
     "output_type": "stream",
     "text": [
      "3.9.13 (main, Aug 25 2022, 18:29:29) \n",
      "[Clang 12.0.0 ]\n"
     ]
    }
   ],
   "source": [
    "#Write a Python code to return your Python version\n",
    "import sys\n",
    "print(sys.version)"
   ]
  },
  {
   "cell_type": "code",
   "execution_count": 2,
   "id": "7d908bf0",
   "metadata": {},
   "outputs": [
    {
     "data": {
      "text/plain": [
       "'customer_id = 513'"
      ]
     },
     "execution_count": 2,
     "metadata": {},
     "output_type": "execute_result"
    }
   ],
   "source": [
    "##Write a Python code to declare variable id=\"513\".\n",
    "#Print the following statement \"customer id =513\". [Don't use print(\"customer id\")]\n",
    "variable_id = \"customer_id = 513\"\n",
    "variable_id"
   ]
  },
  {
   "cell_type": "code",
   "execution_count": 4,
   "id": "6d5b37aa",
   "metadata": {},
   "outputs": [
    {
     "ename": "TypeError",
     "evalue": "unsupported operand type(s) for +: 'builtin_function_or_method' and 'int'",
     "output_type": "error",
     "traceback": [
      "\u001b[0;31m---------------------------------------------------------------------------\u001b[0m",
      "\u001b[0;31mTypeError\u001b[0m                                 Traceback (most recent call last)",
      "\u001b[0;32m/var/folders/07/y4gsr9hx6l51zwvd1bh3n9vh0000gn/T/ipykernel_7609/4212001576.py\u001b[0m in \u001b[0;36m<module>\u001b[0;34m\u001b[0m\n\u001b[1;32m      1\u001b[0m \u001b[0;31m#Run the following statement, why there is an error\u001b[0m\u001b[0;34m\u001b[0m\u001b[0;34m\u001b[0m\u001b[0m\n\u001b[1;32m      2\u001b[0m \u001b[0;31m#because we can't combine string with integer\u001b[0m\u001b[0;34m\u001b[0m\u001b[0;34m\u001b[0m\u001b[0m\n\u001b[0;32m----> 3\u001b[0;31m \u001b[0mid\u001b[0m \u001b[0;34m=\u001b[0m \u001b[0mid\u001b[0m\u001b[0;34m+\u001b[0m\u001b[0;36m1\u001b[0m\u001b[0;34m\u001b[0m\u001b[0;34m\u001b[0m\u001b[0m\n\u001b[0m",
      "\u001b[0;31mTypeError\u001b[0m: unsupported operand type(s) for +: 'builtin_function_or_method' and 'int'"
     ]
    }
   ],
   "source": [
    "#Run the following statement, why there is an error\n",
    "#because we can't combine string with integer\n",
    "id = id+1\n"
   ]
  },
  {
   "cell_type": "code",
   "execution_count": 5,
   "id": "e8cc6cab",
   "metadata": {},
   "outputs": [
    {
     "data": {
      "text/plain": [
       "124"
      ]
     },
     "execution_count": 5,
     "metadata": {},
     "output_type": "execute_result"
    }
   ],
   "source": [
    "#Convert the variable id into an integer, increment it by 1.\n",
    "#Assign the result to variable new_id.\n",
    "#Print the new_id\n",
    "var_id = int('123')\n",
    "var_id_new = var_id+1\n",
    "var_id_new"
   ]
  },
  {
   "cell_type": "code",
   "execution_count": 6,
   "id": "1a738522",
   "metadata": {},
   "outputs": [
    {
     "name": "stdout",
     "output_type": "stream",
     "text": [
      "Twinkle, twinkle, little star,\n",
      "How I wonder what you are!\n",
      "Up above the world so high,\n",
      "Like a diamond in the sky.\n"
     ]
    }
   ],
   "source": [
    "#Write a Python code to print the following string in a specific format (see the\n",
    "# Twinkle, twinkle, little star,\n",
    "# How I wonder what you are!\n",
    "# Up above the world so high,\n",
    "# Like a diamond in the sky.\n",
    "\n",
    "print('Twinkle, twinkle, little star,\\nHow I wonder what you are!\\nUp above the world so high,\\nLike a diamond in the sky.')\n"
   ]
  },
  {
   "cell_type": "code",
   "execution_count": 7,
   "id": "32dca6e7",
   "metadata": {},
   "outputs": [
    {
     "data": {
      "text/plain": [
       "'P'"
      ]
     },
     "execution_count": 7,
     "metadata": {},
     "output_type": "execute_result"
    }
   ],
   "source": [
    "#Givin the following string variable, # Print the first element in the string\n",
    "course=\"Python for Data Science\"\n",
    "course[:1]"
   ]
  },
  {
   "cell_type": "code",
   "execution_count": 8,
   "id": "fd3a6e05",
   "metadata": {},
   "outputs": [
    {
     "data": {
      "text/plain": [
       "'t'"
      ]
     },
     "execution_count": 8,
     "metadata": {},
     "output_type": "execute_result"
    }
   ],
   "source": [
    "# Print the element on the 13th index in the string\n",
    "course[13:14]"
   ]
  },
  {
   "cell_type": "code",
   "execution_count": 9,
   "id": "79159b1c",
   "metadata": {},
   "outputs": [
    {
     "data": {
      "text/plain": [
       "23"
      ]
     },
     "execution_count": 9,
     "metadata": {},
     "output_type": "execute_result"
    }
   ],
   "source": [
    "# Find the length of string\n",
    "len(course)"
   ]
  },
  {
   "cell_type": "code",
   "execution_count": 10,
   "id": "41acab43",
   "metadata": {},
   "outputs": [
    {
     "data": {
      "text/plain": [
       "'e'"
      ]
     },
     "execution_count": 10,
     "metadata": {},
     "output_type": "execute_result"
    }
   ],
   "source": [
    "#Print the last element in the string [use negative index]\n",
    "course[-1]"
   ]
  },
  {
   "cell_type": "code",
   "execution_count": 11,
   "id": "8911b182",
   "metadata": {},
   "outputs": [
    {
     "data": {
      "text/plain": [
       "'Dat'"
      ]
     },
     "execution_count": 11,
     "metadata": {},
     "output_type": "execute_result"
    }
   ],
   "source": [
    "#Take the slice on variable course with only index 11 to index 14\n",
    "course[11:14]"
   ]
  },
  {
   "cell_type": "code",
   "execution_count": 12,
   "id": "cda8941e",
   "metadata": {},
   "outputs": [
    {
     "data": {
      "text/plain": [
       "'Ph ra i'"
      ]
     },
     "execution_count": 12,
     "metadata": {},
     "output_type": "execute_result"
    }
   ],
   "source": [
    "# Get every third element in the range from index 0 to index 20\n",
    "course[0:20:3]"
   ]
  },
  {
   "cell_type": "code",
   "execution_count": 13,
   "id": "9d62a81e",
   "metadata": {},
   "outputs": [
    {
     "data": {
      "text/plain": [
       "'Python AI & Development'"
      ]
     },
     "execution_count": 13,
     "metadata": {},
     "output_type": "execute_result"
    }
   ],
   "source": [
    "# Concatenate course string with \", AI & Development\"\n",
    "A = \"Python \"\n",
    "B = \"AI & Development\"\n",
    "C = A+B\n",
    "C"
   ]
  },
  {
   "cell_type": "code",
   "execution_count": 14,
   "id": "c1d8fe40",
   "metadata": {},
   "outputs": [
    {
     "name": "stdout",
     "output_type": "stream",
     "text": [
      "Python_for_Data_Science\n"
     ]
    }
   ],
   "source": [
    "# Replace all the spaces with (_). New string should looks like\"Python_for_Data_Science\n",
    "\n",
    "course=\"Python for Data Science\"\n",
    "print(course.replace(\" \",\"_\"))"
   ]
  },
  {
   "cell_type": "code",
   "execution_count": 15,
   "id": "4646d781",
   "metadata": {},
   "outputs": [
    {
     "name": "stdout",
     "output_type": "stream",
     "text": [
      "PYTHON FOR DATA SCIENCE\n"
     ]
    }
   ],
   "source": [
    "# Convert all the characters in string to upper case\n",
    "course=\"Python for Data Science\"\n",
    "print(course.upper())"
   ]
  },
  {
   "cell_type": "code",
   "execution_count": 18,
   "id": "4e60e427",
   "metadata": {},
   "outputs": [
    {
     "data": {
      "text/plain": [
       "'Python for data science'"
      ]
     },
     "execution_count": 18,
     "metadata": {},
     "output_type": "execute_result"
    }
   ],
   "source": [
    "#Returns a copy of this string with only the first character capitalized.\n",
    "course.capitalize()"
   ]
  },
  {
   "cell_type": "code",
   "execution_count": 19,
   "id": "c9de9d37",
   "metadata": {},
   "outputs": [
    {
     "data": {
      "text/plain": [
       "'python for data science'"
      ]
     },
     "execution_count": 19,
     "metadata": {},
     "output_type": "execute_result"
    }
   ],
   "source": [
    "#Return string by converting every character to lowercase\n",
    "course.lower()"
   ]
  },
  {
   "cell_type": "code",
   "execution_count": 22,
   "id": "63b44222",
   "metadata": {},
   "outputs": [
    {
     "data": {
      "text/plain": [
       "'Python For Data Science'"
      ]
     },
     "execution_count": 22,
     "metadata": {},
     "output_type": "execute_result"
    }
   ],
   "source": [
    "#This function return string by capitalizing first letter of every word in the string\n",
    "course.title()"
   ]
  },
  {
   "cell_type": "code",
   "execution_count": 23,
   "id": "7e8473b5",
   "metadata": {},
   "outputs": [
    {
     "data": {
      "text/plain": [
       "'pYTHON FOR dATA sCIENCE'"
      ]
     },
     "execution_count": 23,
     "metadata": {},
     "output_type": "execute_result"
    }
   ],
   "source": [
    "#Return a string in which the lowercase letter is converted to uppercase and uppercase to lowercase\n",
    "course.swapcase()"
   ]
  },
  {
   "cell_type": "code",
   "execution_count": 24,
   "id": "a0b5187e",
   "metadata": {},
   "outputs": [
    {
     "data": {
      "text/plain": [
       "'Python to Data Science'"
      ]
     },
     "execution_count": 24,
     "metadata": {},
     "output_type": "execute_result"
    }
   ],
   "source": [
    "#This function returns new string by replacing the occurrence of old string with new string\n",
    "course.replace(\"for\", \"to\")"
   ]
  },
  {
   "cell_type": "code",
   "execution_count": 25,
   "id": "b13283dc",
   "metadata": {},
   "outputs": [
    {
     "data": {
      "text/plain": [
       "11"
      ]
     },
     "execution_count": 25,
     "metadata": {},
     "output_type": "execute_result"
    }
   ],
   "source": [
    "#string to integer to \n",
    "int(\"11\")"
   ]
  },
  {
   "cell_type": "code",
   "execution_count": 27,
   "id": "5a8d5ada",
   "metadata": {},
   "outputs": [
    {
     "data": {
      "text/plain": [
       "'11'"
      ]
     },
     "execution_count": 27,
     "metadata": {},
     "output_type": "execute_result"
    }
   ],
   "source": [
    "str(11)"
   ]
  },
  {
   "cell_type": "code",
   "execution_count": 28,
   "id": "68cb0ab7",
   "metadata": {},
   "outputs": [
    {
     "data": {
      "text/plain": [
       "'11.0'"
      ]
     },
     "execution_count": 28,
     "metadata": {},
     "output_type": "execute_result"
    }
   ],
   "source": [
    "str(\"11.0\")"
   ]
  },
  {
   "cell_type": "code",
   "execution_count": 29,
   "id": "c7ab638c",
   "metadata": {},
   "outputs": [
    {
     "data": {
      "text/plain": [
       "1"
      ]
     },
     "execution_count": 29,
     "metadata": {},
     "output_type": "execute_result"
    }
   ],
   "source": [
    "int(1.2)"
   ]
  },
  {
   "cell_type": "code",
   "execution_count": 30,
   "id": "ed5a0c76",
   "metadata": {},
   "outputs": [
    {
     "data": {
      "text/plain": [
       "3.0"
      ]
     },
     "execution_count": 30,
     "metadata": {},
     "output_type": "execute_result"
    }
   ],
   "source": [
    "float(\"3\")"
   ]
  },
  {
   "cell_type": "code",
   "execution_count": 31,
   "id": "6675147d",
   "metadata": {},
   "outputs": [
    {
     "data": {
      "text/plain": [
       "2.0"
      ]
     },
     "execution_count": 31,
     "metadata": {},
     "output_type": "execute_result"
    }
   ],
   "source": [
    "float(2)"
   ]
  },
  {
   "cell_type": "code",
   "execution_count": 58,
   "id": "4607648e",
   "metadata": {},
   "outputs": [],
   "source": [
    "pop = \"DRIZZY DRAKE \""
   ]
  },
  {
   "cell_type": "code",
   "execution_count": 38,
   "id": "9a83b6b7",
   "metadata": {},
   "outputs": [
    {
     "data": {
      "text/plain": [
       "5"
      ]
     },
     "execution_count": 38,
     "metadata": {},
     "output_type": "execute_result"
    }
   ],
   "source": [
    "pop.find(\"Y\")"
   ]
  },
  {
   "cell_type": "code",
   "execution_count": 39,
   "id": "0a7f35ce",
   "metadata": {},
   "outputs": [
    {
     "data": {
      "text/plain": [
       "11"
      ]
     },
     "execution_count": 39,
     "metadata": {},
     "output_type": "execute_result"
    }
   ],
   "source": [
    "pop.find(\"E\")"
   ]
  },
  {
   "cell_type": "code",
   "execution_count": 40,
   "id": "4cff3943",
   "metadata": {},
   "outputs": [
    {
     "data": {
      "text/plain": [
       "'Z'"
      ]
     },
     "execution_count": 40,
     "metadata": {},
     "output_type": "execute_result"
    }
   ],
   "source": [
    "pop[3]"
   ]
  },
  {
   "cell_type": "code",
   "execution_count": 41,
   "id": "e58a187b",
   "metadata": {},
   "outputs": [
    {
     "data": {
      "text/plain": [
       "'K'"
      ]
     },
     "execution_count": 41,
     "metadata": {},
     "output_type": "execute_result"
    }
   ],
   "source": [
    "pop[-2]"
   ]
  },
  {
   "cell_type": "code",
   "execution_count": 45,
   "id": "a5dab7ad",
   "metadata": {},
   "outputs": [
    {
     "data": {
      "text/plain": [
       "'K'"
      ]
     },
     "execution_count": 45,
     "metadata": {},
     "output_type": "execute_result"
    }
   ],
   "source": [
    "pop[10:11]"
   ]
  },
  {
   "cell_type": "code",
   "execution_count": 46,
   "id": "c8d3ae0b",
   "metadata": {},
   "outputs": [
    {
     "data": {
      "text/plain": [
       "'K'"
      ]
     },
     "execution_count": 46,
     "metadata": {},
     "output_type": "execute_result"
    }
   ],
   "source": [
    "pop[10]"
   ]
  },
  {
   "cell_type": "code",
   "execution_count": 47,
   "id": "e89463b8",
   "metadata": {},
   "outputs": [
    {
     "data": {
      "text/plain": [
       "'DRIZZY'"
      ]
     },
     "execution_count": 47,
     "metadata": {},
     "output_type": "execute_result"
    }
   ],
   "source": [
    "pop[0:6]"
   ]
  },
  {
   "cell_type": "code",
   "execution_count": 48,
   "id": "18418368",
   "metadata": {},
   "outputs": [
    {
     "data": {
      "text/plain": [
       "'DRAKE'"
      ]
     },
     "execution_count": 48,
     "metadata": {},
     "output_type": "execute_result"
    }
   ],
   "source": [
    "pop[7:12]"
   ]
  },
  {
   "cell_type": "code",
   "execution_count": 52,
   "id": "254e3740",
   "metadata": {},
   "outputs": [
    {
     "data": {
      "text/plain": [
       "' DRAKE'"
      ]
     },
     "execution_count": 52,
     "metadata": {},
     "output_type": "execute_result"
    }
   ],
   "source": [
    "pop[-6:12]"
   ]
  },
  {
   "cell_type": "code",
   "execution_count": 59,
   "id": "19cdbf31",
   "metadata": {},
   "outputs": [
    {
     "data": {
      "text/plain": [
       "''"
      ]
     },
     "execution_count": 59,
     "metadata": {},
     "output_type": "execute_result"
    }
   ],
   "source": [
    "pop[-4:0]"
   ]
  },
  {
   "cell_type": "code",
   "execution_count": null,
   "id": "55f28c6c",
   "metadata": {},
   "outputs": [],
   "source": []
  }
 ],
 "metadata": {
  "kernelspec": {
   "display_name": "Python 3 (ipykernel)",
   "language": "python",
   "name": "python3"
  },
  "language_info": {
   "codemirror_mode": {
    "name": "ipython",
    "version": 3
   },
   "file_extension": ".py",
   "mimetype": "text/x-python",
   "name": "python",
   "nbconvert_exporter": "python",
   "pygments_lexer": "ipython3",
   "version": "3.9.13"
  }
 },
 "nbformat": 4,
 "nbformat_minor": 5
}
